{
  "nbformat": 4,
  "nbformat_minor": 0,
  "metadata": {
    "colab": {
      "name": "Untitled1.ipynb",
      "provenance": [],
      "authorship_tag": "ABX9TyP6YGWN4DmmOpKw5BGOC1ZM",
      "include_colab_link": true
    },
    "kernelspec": {
      "name": "python3",
      "display_name": "Python 3"
    }
  },
  "cells": [
    {
      "cell_type": "markdown",
      "metadata": {
        "id": "view-in-github",
        "colab_type": "text"
      },
      "source": [
        "<a href=\"https://colab.research.google.com/github/ravindra98/aws-health-api-organization-view/blob/master/Untitled1.ipynb\" target=\"_parent\"><img src=\"https://colab.research.google.com/assets/colab-badge.svg\" alt=\"Open In Colab\"/></a>"
      ]
    },
    {
      "cell_type": "code",
      "metadata": {
        "id": "XalRfEgW45Nw",
        "colab_type": "code",
        "colab": {}
      },
      "source": [
        "import os\n",
        "import datetime\n",
        "from datetime import timedelta\n",
        "\n",
        "def func1(y,m,d,ms,se,da,mi):\n",
        "\n",
        "    input_date = datetime.date(y,m,d)\n",
        "    input_date1=input_date+ timedelta(microseconds=ms,seconds=se,days=da,minutes=mi)\n",
        "#    input_date1=input_date\n",
        "    delta = timedelta(days=3,seconds=2,microseconds=1,minutes=2)\n",
        "    t=input_Date1-delta\n",
        "    day = t.day\n",
        "    year= t.year\n",
        "    month =t.month\n",
        "    minute=t.minutes\n",
        "    second=   t.seconds\n",
        "    return input_date,input_date1,t,day,year,month,minute,second\n",
        "def func2(y,m,d,ms,se,da,mi):\n",
        "    s='%a %b %d %I:%M:%S %Y'\n",
        "    #x= datetime.strptime(s, \"%a %b %d %I:%M:%S %Y\")\n",
        "    x=datetime.datetime(y,m,d,ms,se,da,mi)\n",
        "    q=x.strftime(s)\n",
        "    z=datetime.datetime(q)\n",
        "    return x,q,z\n",
        "\n",
        "if __name__ == \"__main__\":\n",
        "    y,m,d,ms,se,da,mi = map(int, input().split())\n",
        "    inputs=func1(y,m,d,ms,se,da,mi)\n",
        "    inputs5=func2(y,m,d,ms,se,da,m)\n",
        "    print(inputs[0])\n",
        "    print(inputs[1])\n",
        "    print(inputs[2])\n",
        "    print(inputs[3])\n",
        "    print(inputs[4])\n",
        "    print(inputs[5])\n",
        "    print(inputs[6])\n",
        "    print(inputs[7])\n",
        "    print(inputs5[0])\n",
        "    print(inputs5[1])\n",
        "    print(inputs5[2])"
      ],
      "execution_count": 0,
      "outputs": []
    },
    {
      "cell_type": "code",
      "metadata": {
        "id": "SMepAVT_XFtI",
        "colab_type": "code",
        "colab": {
          "base_uri": "https://localhost:8080/",
          "height": 119
        },
        "outputId": "29a3bf69-7b54-4f23-8887-34a623179510"
      },
      "source": [
        "!git clone https://git-rba.hackerrank.com/git/c4b73be4-e3fe-4dcb-8033-4e76bef55ba7"
      ],
      "execution_count": 1,
      "outputs": [
        {
          "output_type": "stream",
          "text": [
            "Cloning into 'c4b73be4-e3fe-4dcb-8033-4e76bef55ba7'...\n",
            "remote: Enumerating objects: 11, done.\u001b[K\n",
            "remote: Counting objects:   9% (1/11)\u001b[K\rremote: Counting objects:  18% (2/11)\u001b[K\rremote: Counting objects:  27% (3/11)\u001b[K\rremote: Counting objects:  36% (4/11)\u001b[K\rremote: Counting objects:  45% (5/11)\u001b[K\rremote: Counting objects:  54% (6/11)\u001b[K\rremote: Counting objects:  63% (7/11)\u001b[K\rremote: Counting objects:  72% (8/11)\u001b[K\rremote: Counting objects:  81% (9/11)\u001b[K\rremote: Counting objects:  90% (10/11)\u001b[K\rremote: Counting objects: 100% (11/11)\u001b[K\rremote: Counting objects: 100% (11/11), done.\u001b[K\n",
            "remote: Compressing objects:  12% (1/8)\u001b[K\rremote: Compressing objects:  25% (2/8)\u001b[K\rremote: Compressing objects:  37% (3/8)\u001b[K\rremote: Compressing objects:  50% (4/8)\u001b[K\rremote: Compressing objects:  62% (5/8)\u001b[K\rremote: Compressing objects:  75% (6/8)\u001b[K\rremote: Compressing objects:  87% (7/8)\u001b[K\rremote: Compressing objects: 100% (8/8)\u001b[K\rremote: Compressing objects: 100% (8/8), done.\u001b[K\n",
            "remote: Total 11 (delta 0), reused 0 (delta 0)\u001b[K\n",
            "Unpacking objects:   9% (1/11)   \rUnpacking objects:  18% (2/11)   \rUnpacking objects:  27% (3/11)   \rUnpacking objects:  36% (4/11)   \rUnpacking objects:  45% (5/11)   \rUnpacking objects:  54% (6/11)   \rUnpacking objects:  63% (7/11)   \rUnpacking objects:  72% (8/11)   \rUnpacking objects:  81% (9/11)   \rUnpacking objects:  90% (10/11)   \rUnpacking objects: 100% (11/11)   \rUnpacking objects: 100% (11/11), done.\n"
          ],
          "name": "stdout"
        }
      ]
    },
    {
      "cell_type": "code",
      "metadata": {
        "id": "QlPD8NK7XaTd",
        "colab_type": "code",
        "colab": {
          "base_uri": "https://localhost:8080/",
          "height": 357
        },
        "outputId": "4bcd2827-9bbf-4aef-d17f-5b297659744d"
      },
      "source": [
        ""
      ],
      "execution_count": 4,
      "outputs": [
        {
          "output_type": "error",
          "ename": "FileNotFoundError",
          "evalue": "ignored",
          "traceback": [
            "\u001b[0;31m---------------------------------------------------------------------------\u001b[0m",
            "\u001b[0;31mFileNotFoundError\u001b[0m                         Traceback (most recent call last)",
            "\u001b[0;32m<ipython-input-4-ac850f47f2da>\u001b[0m in \u001b[0;36m<module>\u001b[0;34m()\u001b[0m\n\u001b[1;32m      2\u001b[0m \u001b[0msource\u001b[0m\u001b[0;34m=\u001b[0m\u001b[0;34m'projects/Challange/New/Dir/Neww.txt'\u001b[0m\u001b[0;34m\u001b[0m\u001b[0;34m\u001b[0m\u001b[0m\n\u001b[1;32m      3\u001b[0m \u001b[0mdestination\u001b[0m\u001b[0;34m=\u001b[0m\u001b[0;34m'projects/Challange'\u001b[0m\u001b[0;34m\u001b[0m\u001b[0;34m\u001b[0m\u001b[0m\n\u001b[0;32m----> 4\u001b[0;31m \u001b[0mshutil\u001b[0m\u001b[0;34m.\u001b[0m\u001b[0mcopy2\u001b[0m\u001b[0;34m(\u001b[0m\u001b[0msource\u001b[0m\u001b[0;34m,\u001b[0m\u001b[0mdestination\u001b[0m\u001b[0;34m)\u001b[0m\u001b[0;34m\u001b[0m\u001b[0;34m\u001b[0m\u001b[0m\n\u001b[0m\u001b[1;32m      5\u001b[0m \u001b[0mdest\u001b[0m\u001b[0;34m=\u001b[0m\u001b[0mdestination\u001b[0m\u001b[0;34m\u001b[0m\u001b[0;34m\u001b[0m\u001b[0m\n",
            "\u001b[0;32m/usr/lib/python3.6/shutil.py\u001b[0m in \u001b[0;36mcopy2\u001b[0;34m(src, dst, follow_symlinks)\u001b[0m\n\u001b[1;32m    261\u001b[0m     \u001b[0;32mif\u001b[0m \u001b[0mos\u001b[0m\u001b[0;34m.\u001b[0m\u001b[0mpath\u001b[0m\u001b[0;34m.\u001b[0m\u001b[0misdir\u001b[0m\u001b[0;34m(\u001b[0m\u001b[0mdst\u001b[0m\u001b[0;34m)\u001b[0m\u001b[0;34m:\u001b[0m\u001b[0;34m\u001b[0m\u001b[0;34m\u001b[0m\u001b[0m\n\u001b[1;32m    262\u001b[0m         \u001b[0mdst\u001b[0m \u001b[0;34m=\u001b[0m \u001b[0mos\u001b[0m\u001b[0;34m.\u001b[0m\u001b[0mpath\u001b[0m\u001b[0;34m.\u001b[0m\u001b[0mjoin\u001b[0m\u001b[0;34m(\u001b[0m\u001b[0mdst\u001b[0m\u001b[0;34m,\u001b[0m \u001b[0mos\u001b[0m\u001b[0;34m.\u001b[0m\u001b[0mpath\u001b[0m\u001b[0;34m.\u001b[0m\u001b[0mbasename\u001b[0m\u001b[0;34m(\u001b[0m\u001b[0msrc\u001b[0m\u001b[0;34m)\u001b[0m\u001b[0;34m)\u001b[0m\u001b[0;34m\u001b[0m\u001b[0;34m\u001b[0m\u001b[0m\n\u001b[0;32m--> 263\u001b[0;31m     \u001b[0mcopyfile\u001b[0m\u001b[0;34m(\u001b[0m\u001b[0msrc\u001b[0m\u001b[0;34m,\u001b[0m \u001b[0mdst\u001b[0m\u001b[0;34m,\u001b[0m \u001b[0mfollow_symlinks\u001b[0m\u001b[0;34m=\u001b[0m\u001b[0mfollow_symlinks\u001b[0m\u001b[0;34m)\u001b[0m\u001b[0;34m\u001b[0m\u001b[0;34m\u001b[0m\u001b[0m\n\u001b[0m\u001b[1;32m    264\u001b[0m     \u001b[0mcopystat\u001b[0m\u001b[0;34m(\u001b[0m\u001b[0msrc\u001b[0m\u001b[0;34m,\u001b[0m \u001b[0mdst\u001b[0m\u001b[0;34m,\u001b[0m \u001b[0mfollow_symlinks\u001b[0m\u001b[0;34m=\u001b[0m\u001b[0mfollow_symlinks\u001b[0m\u001b[0;34m)\u001b[0m\u001b[0;34m\u001b[0m\u001b[0;34m\u001b[0m\u001b[0m\n\u001b[1;32m    265\u001b[0m     \u001b[0;32mreturn\u001b[0m \u001b[0mdst\u001b[0m\u001b[0;34m\u001b[0m\u001b[0;34m\u001b[0m\u001b[0m\n",
            "\u001b[0;32m/usr/lib/python3.6/shutil.py\u001b[0m in \u001b[0;36mcopyfile\u001b[0;34m(src, dst, follow_symlinks)\u001b[0m\n\u001b[1;32m    118\u001b[0m         \u001b[0mos\u001b[0m\u001b[0;34m.\u001b[0m\u001b[0msymlink\u001b[0m\u001b[0;34m(\u001b[0m\u001b[0mos\u001b[0m\u001b[0;34m.\u001b[0m\u001b[0mreadlink\u001b[0m\u001b[0;34m(\u001b[0m\u001b[0msrc\u001b[0m\u001b[0;34m)\u001b[0m\u001b[0;34m,\u001b[0m \u001b[0mdst\u001b[0m\u001b[0;34m)\u001b[0m\u001b[0;34m\u001b[0m\u001b[0;34m\u001b[0m\u001b[0m\n\u001b[1;32m    119\u001b[0m     \u001b[0;32melse\u001b[0m\u001b[0;34m:\u001b[0m\u001b[0;34m\u001b[0m\u001b[0;34m\u001b[0m\u001b[0m\n\u001b[0;32m--> 120\u001b[0;31m         \u001b[0;32mwith\u001b[0m \u001b[0mopen\u001b[0m\u001b[0;34m(\u001b[0m\u001b[0msrc\u001b[0m\u001b[0;34m,\u001b[0m \u001b[0;34m'rb'\u001b[0m\u001b[0;34m)\u001b[0m \u001b[0;32mas\u001b[0m \u001b[0mfsrc\u001b[0m\u001b[0;34m:\u001b[0m\u001b[0;34m\u001b[0m\u001b[0;34m\u001b[0m\u001b[0m\n\u001b[0m\u001b[1;32m    121\u001b[0m             \u001b[0;32mwith\u001b[0m \u001b[0mopen\u001b[0m\u001b[0;34m(\u001b[0m\u001b[0mdst\u001b[0m\u001b[0;34m,\u001b[0m \u001b[0;34m'wb'\u001b[0m\u001b[0;34m)\u001b[0m \u001b[0;32mas\u001b[0m \u001b[0mfdst\u001b[0m\u001b[0;34m:\u001b[0m\u001b[0;34m\u001b[0m\u001b[0;34m\u001b[0m\u001b[0m\n\u001b[1;32m    122\u001b[0m                 \u001b[0mcopyfileobj\u001b[0m\u001b[0;34m(\u001b[0m\u001b[0mfsrc\u001b[0m\u001b[0;34m,\u001b[0m \u001b[0mfdst\u001b[0m\u001b[0;34m)\u001b[0m\u001b[0;34m\u001b[0m\u001b[0;34m\u001b[0m\u001b[0m\n",
            "\u001b[0;31mFileNotFoundError\u001b[0m: [Errno 2] No such file or directory: 'projects/Challange/New/Dir/Neww.txt'"
          ]
        }
      ]
    },
    {
      "cell_type": "markdown",
      "metadata": {
        "id": "grtc6motZgMr",
        "colab_type": "text"
      },
      "source": [
        ""
      ]
    },
    {
      "cell_type": "code",
      "metadata": {
        "id": "LKduzwgPZDAQ",
        "colab_type": "code",
        "colab": {}
      },
      "source": [
        ""
      ],
      "execution_count": 0,
      "outputs": []
    },
    {
      "cell_type": "markdown",
      "metadata": {
        "id": "inzaTl9Z5Rvr",
        "colab_type": "text"
      },
      "source": [
        "Perform the following operations using the built-in datetime module in python.\n",
        "\n",
        " \n",
        "\n",
        "Note - Perform all operations in question-1 in func1 and question-2 in func2.\n",
        "\n",
        " \n",
        "\n",
        "(1) (a)Assign the date using the parameters y,m,d where y is the parameter for year m is parameter for month and d is parameter for date using the date function in datetime module and save it in variable input_date .\n",
        "\n",
        " \n",
        "\n",
        "      (b)Now from the given date in input_date  add   microseconds using parameter ms , seconds using parameter se , days using parameter da and minutes using parameter mi using the datetime function in datetime module  and assign it in variable input_date1 and print it.\n",
        "\n",
        " \n",
        "\n",
        "      (c)Now from the above date in variable input_date1  subtract one microsecond , two seconds,three days and two minutes and assign it in  variable t and print it.\n",
        "\n",
        "     \n",
        "\n",
        "      (d) Now from the variable t get the day and print it.\n",
        "\n",
        "     \n",
        "\n",
        "      (e)Now from the variable t get the year and print it.\n",
        "\n",
        " \n",
        "\n",
        "      (f)Now from the variable t get the month and print it.\n",
        "\n",
        " \n",
        "\n",
        "      (g)Now from the variable t get the minute and print it.  \n",
        "\n",
        "     \n",
        "\n",
        "      (h)Now from the variable t get the second and print it.   \n",
        "\n",
        " \n",
        "\n",
        " \n",
        "\n",
        "(2) (a)Define a datetime format - for 3rd January 2020 (a friday) 10:34 in the morning with 24 seconds use 'Fri Jan 03 10:34:24 2020' and assign to variable s.\n",
        "\n",
        " \n",
        "\n",
        "      (b)Assign the date using the parameters y, m, d, ms, se, da, mi (where y is parameter for year,m is parameter for month, d is parameter for date,ms is parameter for microseconds , se is parameter for seconds, da is parameter for day and mi is parameter for minutes respectively) to the variable x using datetime module  . Now using the format in variable s convert the date x into a string format and save it in variable q.\n",
        "\n",
        "     \n",
        "\n",
        "      (c)Now from variable q convert it back to datetime module and store it in variable z.     \n",
        "\n",
        " \n",
        "\n",
        "Sample Case 0\n",
        "\n",
        "Sample Input For Custom Testing\n",
        "\n",
        "2020 5 9 1 2 3 4\n",
        "Sample Output\n",
        "\n",
        "2020-05-09\n",
        "2020-05-09 01:02:03.000004\n",
        "2020-05-06 01:00:01.000003\n",
        "6\n",
        "2020\n",
        "5\n",
        "2\n",
        "3\n",
        "2020-05-09 01:02:03.000005\n",
        "Sat May 09 01 02: 03 2020\n",
        "2020-05-09 01:02:03\n",
        " \n",
        "\n",
        "Sample Case 1\n",
        "\n",
        "Sample Input For Custom Testing\n",
        "\n",
        "2008 5 8 1 2 3 5\n",
        "Sample Output\n",
        "\n",
        "2008-05-08\n",
        "2008-05-08 01:02:03.000005\n",
        "2008-05-05 01:00:01.000004\n",
        "5\n",
        "2008\n",
        "5\n",
        "0\n",
        "1\n",
        "2008-05-08 01:02:03.000005\n",
        "Thu May 08 01 02: 03 2008\n",
        "2008-05-08 01:02:03\n",
        "Use the 'Test against custom input' box to output the result for debugging. "
      ]
    }
  ]
}